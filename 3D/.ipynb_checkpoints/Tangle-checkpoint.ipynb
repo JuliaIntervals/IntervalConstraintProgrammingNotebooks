{
 "cells": [
  {
   "cell_type": "markdown",
   "metadata": {},
   "source": [
    "# Tangle surface"
   ]
  },
  {
   "cell_type": "markdown",
   "metadata": {},
   "source": [
    "A difficult example is the so-called \"tangle surface\" (see, e.g., [here](http://paulbourke.net/geometry/tangle/)), given by\n",
    "\n",
    "$$(x^4 + y^4 + z^4  - 5(x^2 + y^2 + z^2) + 11.8 = 0.$$\n",
    "\n",
    "This turns out to be quite difficult to calculate with interval methods, as reflected by the increased calculation times."
   ]
  },
  {
   "cell_type": "code",
   "execution_count": 15,
   "metadata": {
    "collapsed": true
   },
   "outputs": [],
   "source": [
    "using ValidatedNumerics, IntervalConstraintProgramming"
   ]
  },
  {
   "cell_type": "code",
   "execution_count": 4,
   "metadata": {
    "collapsed": false
   },
   "outputs": [
    {
     "name": "stdout",
     "output_type": "stream",
     "text": [
      "  9.590588 seconds (17.55 M allocations: 663.344 MB, 3.43% gc time)\n"
     ]
    }
   ],
   "source": [
    "tangle = @constraint (x^4 + y^4) + z^4  - 5*((x^2 + y^2) + z^2) + 11.8 == 0.0\n",
    "\n",
    "X = IntervalBox(-5..5, -5..5, -5..5)\n",
    "\n",
    "@time paving = pave(tangle, X, 1);\n"
   ]
  },
  {
   "cell_type": "code",
   "execution_count": 12,
   "metadata": {
    "collapsed": false
   },
   "outputs": [
    {
     "name": "stdout",
     "output_type": "stream",
     "text": [
      "227.004031 seconds (453.81 M allocations: 16.755 GB, 3.37% gc time)\n"
     ]
    }
   ],
   "source": [
    "@time refine!(paving, 0.25)\n",
    "\n",
    "inner = paving.inner\n",
    "boundary = paving.boundary;"
   ]
  },
  {
   "cell_type": "code",
   "execution_count": 24,
   "metadata": {
    "collapsed": false
   },
   "outputs": [
    {
     "data": {
      "text/plain": [
       "9240"
      ]
     },
     "execution_count": 24,
     "metadata": {},
     "output_type": "execute_result"
    }
   ],
   "source": [
    "length(paving.boundary)"
   ]
  },
  {
   "cell_type": "code",
   "execution_count": 5,
   "metadata": {
    "collapsed": true
   },
   "outputs": [],
   "source": [
    "using GLVisualize, GeometryTypes, GLAbstraction, Colors"
   ]
  },
  {
   "cell_type": "code",
   "execution_count": 21,
   "metadata": {
    "collapsed": true
   },
   "outputs": [],
   "source": [
    "positions = Point{3, Float32}[(mid(x)) for x in vcat(inner, boundary)]\n",
    "scales = Vec3f0[Vec3f0([diam(x) for x in xx]) for xx in vcat(inner, boundary)]\n",
    "\n",
    "zs = Float32[x[3] for x in positions]\n",
    "minz = minimum(zs)\n",
    "maxz = maximum(zs)\n",
    "\n",
    "xs = Float32[x[1] for x in positions]\n",
    "minx = minimum(xs)\n",
    "maxx = maximum(xs)\n",
    "\n",
    "colors = RGBA{Float32}[RGBA( (zs[i]-minz)/(maxz-minz), (xs[i]-minx)/(maxx-minx), 0f0, 0.3f0)\n",
    "        for i in 1:length(inner)+length(boundary)]\n",
    "#colors2 = RGBA{Float32}[RGBA( 0.5f0, 0.5f0, 0.5f0, 0.02f0) for x in boundary];\n",
    "#colors = vcat(colors1, colors2);"
   ]
  },
  {
   "cell_type": "code",
   "execution_count": 22,
   "metadata": {
    "collapsed": false
   },
   "outputs": [
    {
     "data": {
      "text/plain": [
       "Task (runnable) @0x000000011c886f50"
      ]
     },
     "execution_count": 22,
     "metadata": {},
     "output_type": "execute_result"
    }
   ],
   "source": [
    "cube_particle = HyperRectangle{3, Float32}(Vec3f0(-0.5, -0.5, -0.5), Vec3f0(1, 1, 1))\n",
    "\n",
    "window = glscreen()\n",
    "\n",
    "vis = visualize( (cube_particle, positions), scale=scales, color=colors)\n",
    "\n",
    "_view(vis)\n",
    "\n",
    "\n",
    "@async renderloop(window)"
   ]
  },
  {
   "cell_type": "code",
   "execution_count": null,
   "metadata": {
    "collapsed": true
   },
   "outputs": [],
   "source": []
  }
 ],
 "metadata": {
  "anaconda-cloud": {},
  "kernelspec": {
   "display_name": "Julia 0.5.0",
   "language": "julia",
   "name": "julia-0.5"
  },
  "language_info": {
   "file_extension": ".jl",
   "mimetype": "application/julia",
   "name": "julia",
   "version": "0.5.0"
  },
  "toc": {
   "nav_menu": {
    "height": "30px",
    "width": "252px"
   },
   "navigate_menu": true,
   "number_sections": true,
   "sideBar": true,
   "threshold": "2",
   "toc_cell": false,
   "toc_section_display": "block",
   "toc_window_display": false
  }
 },
 "nbformat": 4,
 "nbformat_minor": 2
}
