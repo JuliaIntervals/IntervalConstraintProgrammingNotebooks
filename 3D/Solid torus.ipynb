{
 "cells": [
  {
   "cell_type": "markdown",
   "metadata": {},
   "source": [
    "# Solid torus"
   ]
  },
  {
   "cell_type": "markdown",
   "metadata": {},
   "source": [
    "In this notebook, we will use the `IntervalConstraintProgramming.jl` package to create a solid torus, which is the set $S$ given by the implicit equation\n",
    "\n",
    "$$S = \\{(x,y,z) \\in \\mathbb{R}^3 : (3 - \\sqrt(x^2 + y^2))^2 + z^2 \\le 1 \\}$$"
   ]
  },
  {
   "cell_type": "markdown",
   "metadata": {},
   "source": [
    "## Inner and outer approximations of the set"
   ]
  },
  {
   "cell_type": "markdown",
   "metadata": {},
   "source": [
    "We first calculate inner and outer approximations of the set $S$."
   ]
  },
  {
   "cell_type": "code",
   "execution_count": 19,
   "metadata": {
    "collapsed": false
   },
   "outputs": [],
   "source": [
    "using IntervalConstraintProgramming, ValidatedNumerics"
   ]
  },
  {
   "cell_type": "code",
   "execution_count": 20,
   "metadata": {
    "collapsed": false
   },
   "outputs": [
    {
     "data": {
      "text/plain": [
       "Separator:\n",
       "- variables: x, y, z\n",
       "- expression: (3 - sqrt(x ^ 2 + y ^ 2)) ^ 2 + z ^ 2 ∈ [-∞, 1]\n"
      ]
     },
     "execution_count": 20,
     "metadata": {},
     "output_type": "execute_result"
    }
   ],
   "source": [
    "solid_torus = @constraint (3 - sqrt(x^2 + y^2))^2 + z^2 <= 1"
   ]
  },
  {
   "cell_type": "code",
   "execution_count": 21,
   "metadata": {
    "collapsed": false
   },
   "outputs": [
    {
     "name": "stdout",
     "output_type": "stream",
     "text": [
      "  0.191575 seconds (552.57 k allocations: 20.425 MB, 6.52% gc time)\n"
     ]
    }
   ],
   "source": [
    "Y = IntervalBox(-5..5, -5..5, -5..5)\n",
    "@time paving = pave(solid_torus, Y, 1);"
   ]
  },
  {
   "cell_type": "code",
   "execution_count": 22,
   "metadata": {
    "collapsed": false
   },
   "outputs": [
    {
     "name": "stdout",
     "output_type": "stream",
     "text": [
      "  8.686054 seconds (34.36 M allocations: 1.247 GB, 7.36% gc time)\n"
     ]
    },
    {
     "data": {
      "text/plain": [
       "14880"
      ]
     },
     "execution_count": 22,
     "metadata": {},
     "output_type": "execute_result"
    }
   ],
   "source": [
    "@time refine!(paving, 0.125)\n",
    "length(paving.inner)"
   ]
  },
  {
   "cell_type": "code",
   "execution_count": 23,
   "metadata": {
    "collapsed": false
   },
   "outputs": [
    {
     "data": {
      "text/plain": [
       "Paving:\n",
       "- tolerance ϵ = 0.125\n",
       "- inner approx. of length 14880\n",
       "- boundary approx. of length 15664"
      ]
     },
     "execution_count": 23,
     "metadata": {},
     "output_type": "execute_result"
    }
   ],
   "source": [
    "paving"
   ]
  },
  {
   "cell_type": "markdown",
   "metadata": {},
   "source": [
    "`paving.inner` gives an **inner approximation** of $S$, i.e. a union of boxes $X_i$ that are guaranteed to be strictly *inside* $S$, i.e. $X_i \\subseteq S$.\n",
    "\n",
    "`paving.boundary` are boxes that cannot be guaranteed to be inside or outside $S$, but such that the union of `paving.inner` and `paving.boundary` gives an **outer approximation**, i.e. \n",
    "\n",
    "$$S \\subseteq \\bigcup_i X_i \\cup \\bigcup_b X_b,$$\n",
    "\n",
    "where the $X_i$ run over the boxes in the inner approximation, and $X_b$ over the boxes in the boundary."
   ]
  },
  {
   "cell_type": "markdown",
   "metadata": {},
   "source": [
    "## 3D visualization with `GLVisualize`"
   ]
  },
  {
   "cell_type": "markdown",
   "metadata": {},
   "source": [
    "We use the `GLVisualize` package to visualize the boxes in 3D. \n",
    "\n",
    "We first load the necessary packages:"
   ]
  },
  {
   "cell_type": "code",
   "execution_count": 5,
   "metadata": {
    "collapsed": false
   },
   "outputs": [],
   "source": [
    "using GLVisualize, GeometryTypes, GLAbstraction, Colors"
   ]
  },
  {
   "cell_type": "markdown",
   "metadata": {},
   "source": [
    "We define the positions, box sizes and colours:"
   ]
  },
  {
   "cell_type": "code",
   "execution_count": 12,
   "metadata": {
    "collapsed": false
   },
   "outputs": [],
   "source": [
    "inner = paving.inner\n",
    "positions = Point{3, Float32}[(mid(x)) for x in inner]\n",
    "scales = Vec3f0[Vec3f0([diam(x) for x in xx]) for xx in inner]\n",
    "colors = [RGBA(1f0, 0f0, 0f0, 0.1f0) for xx in inner];"
   ]
  },
  {
   "cell_type": "markdown",
   "metadata": {},
   "source": [
    "And, in only 5 lines of code, we create the 3D visualization in terms of \"particles\" (in this case, `HyperRectangle`s representing cuboids):"
   ]
  },
  {
   "cell_type": "code",
   "execution_count": 14,
   "metadata": {
    "collapsed": false
   },
   "outputs": [
    {
     "data": {
      "text/plain": [
       "Task (runnable) @0x00000001193a4fd0"
      ]
     },
     "execution_count": 14,
     "metadata": {},
     "output_type": "execute_result"
    }
   ],
   "source": [
    "cube_particle = HyperRectangle{3, Float32}(Vec3f0(-0.5, -0.5, -0.5), Vec3f0(1, 1, 1))\n",
    "\n",
    "window = glscreen()\n",
    "\n",
    "vis = visualize( (cube_particle, positions), scale=scales, color=colors)\n",
    "\n",
    "_view(vis)\n",
    "\n",
    "@async renderloop(window)"
   ]
  }
 ],
 "metadata": {
  "anaconda-cloud": {},
  "kernelspec": {
   "display_name": "Julia 0.5.0",
   "language": "julia",
   "name": "julia-0.5"
  },
  "language_info": {
   "file_extension": ".jl",
   "mimetype": "application/julia",
   "name": "julia",
   "version": "0.5.0"
  },
  "toc": {
   "nav_menu": {
    "height": "84px",
    "width": "252px"
   },
   "navigate_menu": true,
   "number_sections": true,
   "sideBar": true,
   "threshold": "2",
   "toc_cell": false,
   "toc_section_display": "block",
   "toc_window_display": false
  }
 },
 "nbformat": 4,
 "nbformat_minor": 0
}
